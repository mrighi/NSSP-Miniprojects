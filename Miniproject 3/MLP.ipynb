{
 "cells": [
  {
   "cell_type": "code",
   "execution_count": null,
   "metadata": {},
   "outputs": [],
   "source": [
    "import torch\n",
    "from torch import nn"
   ]
  },
  {
   "cell_type": "code",
   "execution_count": null,
   "metadata": {},
   "outputs": [],
   "source": [
    "class MLP(nn.Module):\n",
    "\t\n",
    "\tdef __init__(self, input_dim, layersizes, output_dim):\n",
    "\t\tsuper().__init__()\n",
    "\t\tself.layers = nn.Sequential(\n",
    "\t\t\tnn.Flatten(),\n",
    "\t\t\tnn.Linear(input_dim, layersizes[0]),\n",
    "\t\t\tnn.ReLU(),\n",
    "\t\t\tnn.Linear(layersizes[0], layersizes[1]),\n",
    "\t\t\tnn.ReLU(),\n",
    "\t\t\tnn.Linear(layersizes[1], layersizes[2]),\n",
    "\t\t\tnn.ReLU(),\n",
    "\t\t\tnn.Linear(layersizes[2], layersizes[3]),\n",
    "\t\t\tnn.ReLU(),\n",
    "\t\t\tnn.Linear(layersizes[3], output_dim)\n",
    "\t\t)\n",
    "\n",
    "\tdef forward(self, x):\n",
    "\t\treturn self.layers(x)"
   ]
  },
  {
   "cell_type": "code",
   "execution_count": null,
   "metadata": {},
   "outputs": [],
   "source": [
    "def trainMLP(dataset):\n",
    "\tmlp = MLP()\n",
    "\tloss_function = nn.CrossEntropyLoss()\n",
    "\toptimizer = torch.optim.Adam(mlp.parameters())\n",
    "\tdataloader = torch.utils.data.DataLoader(dataset, batch_size=128, shuffle=True, num_workers=1)\n",
    "\tfor epoch in range(30):\n",
    "\t\tcurrent_loss = 0\n",
    "\t\tfor i, data in enumerate(dataloader, 0):\n",
    "\t\t\tinputs, targets = data\n",
    "\t\t\toptimizer.zero_grad()\n",
    "\t\t\toutputs = mlp(inputs)\n",
    "\t\t\tloss = loss_function(outputs, targets)\n",
    "\t\t\tloss.backward()\n",
    "\t\t\toptimizer.step()\n",
    "\t\t\tcurrent_loss += loss.item()\n",
    "\n",
    "\t\tprint(\"Epoch: \", epoch)\n",
    "\t\tprint(\"Loss: \", current_loss)\n",
    "\t\tcurrent_loss = 0\n"
   ]
  }
 ],
 "metadata": {
  "kernelspec": {
   "display_name": "Python 3.9.1 64-bit",
   "language": "python",
   "name": "python3"
  },
  "language_info": {
   "name": "python",
   "version": "3.9.1"
  },
  "orig_nbformat": 4,
  "vscode": {
   "interpreter": {
    "hash": "81794d4967e6c3204c66dcd87b604927b115b27c00565d3d43f05ba2f3a2cb0d"
   }
  }
 },
 "nbformat": 4,
 "nbformat_minor": 2
}
